{
  "nbformat": 4,
  "nbformat_minor": 0,
  "metadata": {
    "colab": {
      "name": "Fake_and_real_news_detect",
      "provenance": [],
      "collapsed_sections": []
    },
    "kernelspec": {
      "name": "python3",
      "display_name": "Python 3"
    },
    "language_info": {
      "name": "python"
    }
  },
  "cells": [
    {
      "cell_type": "code",
      "metadata": {
        "id": "lpt7k5KTo1J5",
        "colab": {
          "base_uri": "https://localhost:8080/"
        },
        "outputId": "c8359582-3515-4569-a0ff-8fbda282949d"
      },
      "source": [
        "!pip install Pydrive"
      ],
      "execution_count": 107,
      "outputs": [
        {
          "output_type": "stream",
          "text": [
            "Requirement already satisfied: Pydrive in /usr/local/lib/python3.7/dist-packages (1.3.1)\n",
            "Requirement already satisfied: google-api-python-client>=1.2 in /usr/local/lib/python3.7/dist-packages (from Pydrive) (1.12.8)\n",
            "Requirement already satisfied: oauth2client>=4.0.0 in /usr/local/lib/python3.7/dist-packages (from Pydrive) (4.1.3)\n",
            "Requirement already satisfied: PyYAML>=3.0 in /usr/local/lib/python3.7/dist-packages (from Pydrive) (3.13)\n",
            "Requirement already satisfied: uritemplate<4dev,>=3.0.0 in /usr/local/lib/python3.7/dist-packages (from google-api-python-client>=1.2->Pydrive) (3.0.1)\n",
            "Requirement already satisfied: google-auth-httplib2>=0.0.3 in /usr/local/lib/python3.7/dist-packages (from google-api-python-client>=1.2->Pydrive) (0.0.4)\n",
            "Requirement already satisfied: google-auth>=1.16.0 in /usr/local/lib/python3.7/dist-packages (from google-api-python-client>=1.2->Pydrive) (1.30.0)\n",
            "Requirement already satisfied: httplib2<1dev,>=0.15.0 in /usr/local/lib/python3.7/dist-packages (from google-api-python-client>=1.2->Pydrive) (0.17.4)\n",
            "Requirement already satisfied: six<2dev,>=1.13.0 in /usr/local/lib/python3.7/dist-packages (from google-api-python-client>=1.2->Pydrive) (1.15.0)\n",
            "Requirement already satisfied: google-api-core<2dev,>=1.21.0 in /usr/local/lib/python3.7/dist-packages (from google-api-python-client>=1.2->Pydrive) (1.26.3)\n",
            "Requirement already satisfied: rsa>=3.1.4 in /usr/local/lib/python3.7/dist-packages (from oauth2client>=4.0.0->Pydrive) (4.7.2)\n",
            "Requirement already satisfied: pyasn1>=0.1.7 in /usr/local/lib/python3.7/dist-packages (from oauth2client>=4.0.0->Pydrive) (0.4.8)\n",
            "Requirement already satisfied: pyasn1-modules>=0.0.5 in /usr/local/lib/python3.7/dist-packages (from oauth2client>=4.0.0->Pydrive) (0.2.8)\n",
            "Requirement already satisfied: setuptools>=40.3.0 in /usr/local/lib/python3.7/dist-packages (from google-auth>=1.16.0->google-api-python-client>=1.2->Pydrive) (56.1.0)\n",
            "Requirement already satisfied: cachetools<5.0,>=2.0.0 in /usr/local/lib/python3.7/dist-packages (from google-auth>=1.16.0->google-api-python-client>=1.2->Pydrive) (4.2.2)\n",
            "Requirement already satisfied: packaging>=14.3 in /usr/local/lib/python3.7/dist-packages (from google-api-core<2dev,>=1.21.0->google-api-python-client>=1.2->Pydrive) (20.9)\n",
            "Requirement already satisfied: pytz in /usr/local/lib/python3.7/dist-packages (from google-api-core<2dev,>=1.21.0->google-api-python-client>=1.2->Pydrive) (2018.9)\n",
            "Requirement already satisfied: requests<3.0.0dev,>=2.18.0 in /usr/local/lib/python3.7/dist-packages (from google-api-core<2dev,>=1.21.0->google-api-python-client>=1.2->Pydrive) (2.23.0)\n",
            "Requirement already satisfied: googleapis-common-protos<2.0dev,>=1.6.0 in /usr/local/lib/python3.7/dist-packages (from google-api-core<2dev,>=1.21.0->google-api-python-client>=1.2->Pydrive) (1.53.0)\n",
            "Requirement already satisfied: protobuf>=3.12.0 in /usr/local/lib/python3.7/dist-packages (from google-api-core<2dev,>=1.21.0->google-api-python-client>=1.2->Pydrive) (3.12.4)\n",
            "Requirement already satisfied: pyparsing>=2.0.2 in /usr/local/lib/python3.7/dist-packages (from packaging>=14.3->google-api-core<2dev,>=1.21.0->google-api-python-client>=1.2->Pydrive) (2.4.7)\n",
            "Requirement already satisfied: urllib3!=1.25.0,!=1.25.1,<1.26,>=1.21.1 in /usr/local/lib/python3.7/dist-packages (from requests<3.0.0dev,>=2.18.0->google-api-core<2dev,>=1.21.0->google-api-python-client>=1.2->Pydrive) (1.24.3)\n",
            "Requirement already satisfied: chardet<4,>=3.0.2 in /usr/local/lib/python3.7/dist-packages (from requests<3.0.0dev,>=2.18.0->google-api-core<2dev,>=1.21.0->google-api-python-client>=1.2->Pydrive) (3.0.4)\n",
            "Requirement already satisfied: certifi>=2017.4.17 in /usr/local/lib/python3.7/dist-packages (from requests<3.0.0dev,>=2.18.0->google-api-core<2dev,>=1.21.0->google-api-python-client>=1.2->Pydrive) (2020.12.5)\n",
            "Requirement already satisfied: idna<3,>=2.5 in /usr/local/lib/python3.7/dist-packages (from requests<3.0.0dev,>=2.18.0->google-api-core<2dev,>=1.21.0->google-api-python-client>=1.2->Pydrive) (2.10)\n"
          ],
          "name": "stdout"
        }
      ]
    },
    {
      "cell_type": "code",
      "metadata": {
        "id": "232aEPgZ_5f9"
      },
      "source": [
        "from pydrive.auth import GoogleAuth\n",
        "from pydrive.drive import GoogleDrive\n",
        "from google.colab import auth\n",
        "from oauth2client.client import GoogleCredentials"
      ],
      "execution_count": 108,
      "outputs": []
    },
    {
      "cell_type": "code",
      "metadata": {
        "id": "3YJ4YLrOBCDg"
      },
      "source": [
        "auth.authenticate_user()\n",
        "gauth=GoogleAuth()\n",
        "gauth.credentials=GoogleCredentials.get_application_default()\n",
        "drive=GoogleDrive(gauth)"
      ],
      "execution_count": 109,
      "outputs": []
    },
    {
      "cell_type": "code",
      "metadata": {
        "id": "ULF9mpvoAcdZ"
      },
      "source": [
        "id=\"1vzTd4A7dajkypplD1boSWDrzKwmpne4h\""
      ],
      "execution_count": 110,
      "outputs": []
    },
    {
      "cell_type": "code",
      "metadata": {
        "id": "wHn68JBEAeRW"
      },
      "source": [
        "imported = drive.CreateFile({'id':id})\n",
        "imported.GetContentFile('Fake.csv')"
      ],
      "execution_count": 111,
      "outputs": []
    },
    {
      "cell_type": "code",
      "metadata": {
        "id": "dlsM0tHvAeC3"
      },
      "source": [
        "id=\"1vzTd4A7dajkypplD1boSWDrzKwmpne4h\""
      ],
      "execution_count": 112,
      "outputs": []
    },
    {
      "cell_type": "code",
      "metadata": {
        "id": "O_iaXkUdAds8"
      },
      "source": [
        "imported = drive.CreateFile({'id':id})\n",
        "imported.GetContentFile('True.csv')"
      ],
      "execution_count": 113,
      "outputs": []
    },
    {
      "cell_type": "code",
      "metadata": {
        "id": "MwHt_XyiCC4O"
      },
      "source": [
        "import pandas as pd"
      ],
      "execution_count": 114,
      "outputs": []
    },
    {
      "cell_type": "code",
      "metadata": {
        "id": "tElEdYgzCK89"
      },
      "source": [
        "df_true_news = pd.read_csv(\"True.csv\")"
      ],
      "execution_count": 115,
      "outputs": []
    },
    {
      "cell_type": "code",
      "metadata": {
        "id": "9wzJGu-BCK4-"
      },
      "source": [
        "df_fake_news = pd.read_csv(\"Fake.csv\")"
      ],
      "execution_count": 116,
      "outputs": []
    },
    {
      "cell_type": "code",
      "metadata": {
        "colab": {
          "base_uri": "https://localhost:8080/",
          "height": 649
        },
        "id": "2_BjqnmGUSnF",
        "outputId": "9f03ae89-0a7f-457c-a686-93f2a8e67023"
      },
      "source": [
        "df_true_news.head(20)"
      ],
      "execution_count": 117,
      "outputs": [
        {
          "output_type": "execute_result",
          "data": {
            "text/html": [
              "<div>\n",
              "<style scoped>\n",
              "    .dataframe tbody tr th:only-of-type {\n",
              "        vertical-align: middle;\n",
              "    }\n",
              "\n",
              "    .dataframe tbody tr th {\n",
              "        vertical-align: top;\n",
              "    }\n",
              "\n",
              "    .dataframe thead th {\n",
              "        text-align: right;\n",
              "    }\n",
              "</style>\n",
              "<table border=\"1\" class=\"dataframe\">\n",
              "  <thead>\n",
              "    <tr style=\"text-align: right;\">\n",
              "      <th></th>\n",
              "      <th>title</th>\n",
              "      <th>text</th>\n",
              "      <th>subject</th>\n",
              "      <th>date</th>\n",
              "    </tr>\n",
              "  </thead>\n",
              "  <tbody>\n",
              "    <tr>\n",
              "      <th>0</th>\n",
              "      <td>As U.S. budget fight looms, Republicans flip t...</td>\n",
              "      <td>WASHINGTON (Reuters) - The head of a conservat...</td>\n",
              "      <td>politicsNews</td>\n",
              "      <td>December 31, 2017</td>\n",
              "    </tr>\n",
              "    <tr>\n",
              "      <th>1</th>\n",
              "      <td>U.S. military to accept transgender recruits o...</td>\n",
              "      <td>WASHINGTON (Reuters) - Transgender people will...</td>\n",
              "      <td>politicsNews</td>\n",
              "      <td>December 29, 2017</td>\n",
              "    </tr>\n",
              "    <tr>\n",
              "      <th>2</th>\n",
              "      <td>Senior U.S. Republican senator: 'Let Mr. Muell...</td>\n",
              "      <td>WASHINGTON (Reuters) - The special counsel inv...</td>\n",
              "      <td>politicsNews</td>\n",
              "      <td>December 31, 2017</td>\n",
              "    </tr>\n",
              "    <tr>\n",
              "      <th>3</th>\n",
              "      <td>FBI Russia probe helped by Australian diplomat...</td>\n",
              "      <td>WASHINGTON (Reuters) - Trump campaign adviser ...</td>\n",
              "      <td>politicsNews</td>\n",
              "      <td>December 30, 2017</td>\n",
              "    </tr>\n",
              "    <tr>\n",
              "      <th>4</th>\n",
              "      <td>Trump wants Postal Service to charge 'much mor...</td>\n",
              "      <td>SEATTLE/WASHINGTON (Reuters) - President Donal...</td>\n",
              "      <td>politicsNews</td>\n",
              "      <td>December 29, 2017</td>\n",
              "    </tr>\n",
              "    <tr>\n",
              "      <th>5</th>\n",
              "      <td>White House, Congress prepare for talks on spe...</td>\n",
              "      <td>WEST PALM BEACH, Fla./WASHINGTON (Reuters) - T...</td>\n",
              "      <td>politicsNews</td>\n",
              "      <td>December 29, 2017</td>\n",
              "    </tr>\n",
              "    <tr>\n",
              "      <th>6</th>\n",
              "      <td>Trump says Russia probe will be fair, but time...</td>\n",
              "      <td>WEST PALM BEACH, Fla (Reuters) - President Don...</td>\n",
              "      <td>politicsNews</td>\n",
              "      <td>December 29, 2017</td>\n",
              "    </tr>\n",
              "    <tr>\n",
              "      <th>7</th>\n",
              "      <td>Factbox: Trump on Twitter (Dec 29) - Approval ...</td>\n",
              "      <td>The following statements were posted to the ve...</td>\n",
              "      <td>politicsNews</td>\n",
              "      <td>December 29, 2017</td>\n",
              "    </tr>\n",
              "    <tr>\n",
              "      <th>8</th>\n",
              "      <td>Trump on Twitter (Dec 28) - Global Warming</td>\n",
              "      <td>The following statements were posted to the ve...</td>\n",
              "      <td>politicsNews</td>\n",
              "      <td>December 29, 2017</td>\n",
              "    </tr>\n",
              "    <tr>\n",
              "      <th>9</th>\n",
              "      <td>Alabama official to certify Senator-elect Jone...</td>\n",
              "      <td>WASHINGTON (Reuters) - Alabama Secretary of St...</td>\n",
              "      <td>politicsNews</td>\n",
              "      <td>December 28, 2017</td>\n",
              "    </tr>\n",
              "    <tr>\n",
              "      <th>10</th>\n",
              "      <td>Jones certified U.S. Senate winner despite Moo...</td>\n",
              "      <td>(Reuters) - Alabama officials on Thursday cert...</td>\n",
              "      <td>politicsNews</td>\n",
              "      <td>December 28, 2017</td>\n",
              "    </tr>\n",
              "    <tr>\n",
              "      <th>11</th>\n",
              "      <td>New York governor questions the constitutional...</td>\n",
              "      <td>NEW YORK/WASHINGTON (Reuters) - The new U.S. t...</td>\n",
              "      <td>politicsNews</td>\n",
              "      <td>December 28, 2017</td>\n",
              "    </tr>\n",
              "    <tr>\n",
              "      <th>12</th>\n",
              "      <td>Factbox: Trump on Twitter (Dec 28) - Vanity Fa...</td>\n",
              "      <td>The following statements were posted to the ve...</td>\n",
              "      <td>politicsNews</td>\n",
              "      <td>December 28, 2017</td>\n",
              "    </tr>\n",
              "    <tr>\n",
              "      <th>13</th>\n",
              "      <td>Trump on Twitter (Dec 27) - Trump, Iraq, Syria</td>\n",
              "      <td>The following statements were posted to the ve...</td>\n",
              "      <td>politicsNews</td>\n",
              "      <td>December 28, 2017</td>\n",
              "    </tr>\n",
              "    <tr>\n",
              "      <th>14</th>\n",
              "      <td>Man says he delivered manure to Mnuchin to pro...</td>\n",
              "      <td>(In Dec. 25 story, in second paragraph, corre...</td>\n",
              "      <td>politicsNews</td>\n",
              "      <td>December 25, 2017</td>\n",
              "    </tr>\n",
              "    <tr>\n",
              "      <th>15</th>\n",
              "      <td>Virginia officials postpone lottery drawing to...</td>\n",
              "      <td>(Reuters) - A lottery drawing to settle a tied...</td>\n",
              "      <td>politicsNews</td>\n",
              "      <td>December 27, 2017</td>\n",
              "    </tr>\n",
              "    <tr>\n",
              "      <th>16</th>\n",
              "      <td>U.S. lawmakers question businessman at 2016 Tr...</td>\n",
              "      <td>WASHINGTON (Reuters) - A Georgian-American bus...</td>\n",
              "      <td>politicsNews</td>\n",
              "      <td>December 27, 2017</td>\n",
              "    </tr>\n",
              "    <tr>\n",
              "      <th>17</th>\n",
              "      <td>Trump on Twitter (Dec 26) - Hillary Clinton, T...</td>\n",
              "      <td>The following statements were posted to the ve...</td>\n",
              "      <td>politicsNews</td>\n",
              "      <td>December 26, 2017</td>\n",
              "    </tr>\n",
              "    <tr>\n",
              "      <th>18</th>\n",
              "      <td>U.S. appeals court rejects challenge to Trump ...</td>\n",
              "      <td>(Reuters) - A U.S. appeals court in Washington...</td>\n",
              "      <td>politicsNews</td>\n",
              "      <td>December 26, 2017</td>\n",
              "    </tr>\n",
              "    <tr>\n",
              "      <th>19</th>\n",
              "      <td>Treasury Secretary Mnuchin was sent gift-wrapp...</td>\n",
              "      <td>(Reuters) - A gift-wrapped package addressed t...</td>\n",
              "      <td>politicsNews</td>\n",
              "      <td>December 24, 2017</td>\n",
              "    </tr>\n",
              "  </tbody>\n",
              "</table>\n",
              "</div>"
            ],
            "text/plain": [
              "                                                title  ...                date\n",
              "0   As U.S. budget fight looms, Republicans flip t...  ...  December 31, 2017 \n",
              "1   U.S. military to accept transgender recruits o...  ...  December 29, 2017 \n",
              "2   Senior U.S. Republican senator: 'Let Mr. Muell...  ...  December 31, 2017 \n",
              "3   FBI Russia probe helped by Australian diplomat...  ...  December 30, 2017 \n",
              "4   Trump wants Postal Service to charge 'much mor...  ...  December 29, 2017 \n",
              "5   White House, Congress prepare for talks on spe...  ...  December 29, 2017 \n",
              "6   Trump says Russia probe will be fair, but time...  ...  December 29, 2017 \n",
              "7   Factbox: Trump on Twitter (Dec 29) - Approval ...  ...  December 29, 2017 \n",
              "8          Trump on Twitter (Dec 28) - Global Warming  ...  December 29, 2017 \n",
              "9   Alabama official to certify Senator-elect Jone...  ...  December 28, 2017 \n",
              "10  Jones certified U.S. Senate winner despite Moo...  ...  December 28, 2017 \n",
              "11  New York governor questions the constitutional...  ...  December 28, 2017 \n",
              "12  Factbox: Trump on Twitter (Dec 28) - Vanity Fa...  ...  December 28, 2017 \n",
              "13     Trump on Twitter (Dec 27) - Trump, Iraq, Syria  ...  December 28, 2017 \n",
              "14  Man says he delivered manure to Mnuchin to pro...  ...  December 25, 2017 \n",
              "15  Virginia officials postpone lottery drawing to...  ...  December 27, 2017 \n",
              "16  U.S. lawmakers question businessman at 2016 Tr...  ...  December 27, 2017 \n",
              "17  Trump on Twitter (Dec 26) - Hillary Clinton, T...  ...  December 26, 2017 \n",
              "18  U.S. appeals court rejects challenge to Trump ...  ...  December 26, 2017 \n",
              "19  Treasury Secretary Mnuchin was sent gift-wrapp...  ...  December 24, 2017 \n",
              "\n",
              "[20 rows x 4 columns]"
            ]
          },
          "metadata": {
            "tags": []
          },
          "execution_count": 117
        }
      ]
    },
    {
      "cell_type": "code",
      "metadata": {
        "colab": {
          "base_uri": "https://localhost:8080/",
          "height": 649
        },
        "id": "gJ2xBwufCK2B",
        "outputId": "d9e887d2-99cf-4c21-d560-08fde395ade6"
      },
      "source": [
        "df_fake_news.head(20)"
      ],
      "execution_count": 118,
      "outputs": [
        {
          "output_type": "execute_result",
          "data": {
            "text/html": [
              "<div>\n",
              "<style scoped>\n",
              "    .dataframe tbody tr th:only-of-type {\n",
              "        vertical-align: middle;\n",
              "    }\n",
              "\n",
              "    .dataframe tbody tr th {\n",
              "        vertical-align: top;\n",
              "    }\n",
              "\n",
              "    .dataframe thead th {\n",
              "        text-align: right;\n",
              "    }\n",
              "</style>\n",
              "<table border=\"1\" class=\"dataframe\">\n",
              "  <thead>\n",
              "    <tr style=\"text-align: right;\">\n",
              "      <th></th>\n",
              "      <th>title</th>\n",
              "      <th>text</th>\n",
              "      <th>subject</th>\n",
              "      <th>date</th>\n",
              "    </tr>\n",
              "  </thead>\n",
              "  <tbody>\n",
              "    <tr>\n",
              "      <th>0</th>\n",
              "      <td>As U.S. budget fight looms, Republicans flip t...</td>\n",
              "      <td>WASHINGTON (Reuters) - The head of a conservat...</td>\n",
              "      <td>politicsNews</td>\n",
              "      <td>December 31, 2017</td>\n",
              "    </tr>\n",
              "    <tr>\n",
              "      <th>1</th>\n",
              "      <td>U.S. military to accept transgender recruits o...</td>\n",
              "      <td>WASHINGTON (Reuters) - Transgender people will...</td>\n",
              "      <td>politicsNews</td>\n",
              "      <td>December 29, 2017</td>\n",
              "    </tr>\n",
              "    <tr>\n",
              "      <th>2</th>\n",
              "      <td>Senior U.S. Republican senator: 'Let Mr. Muell...</td>\n",
              "      <td>WASHINGTON (Reuters) - The special counsel inv...</td>\n",
              "      <td>politicsNews</td>\n",
              "      <td>December 31, 2017</td>\n",
              "    </tr>\n",
              "    <tr>\n",
              "      <th>3</th>\n",
              "      <td>FBI Russia probe helped by Australian diplomat...</td>\n",
              "      <td>WASHINGTON (Reuters) - Trump campaign adviser ...</td>\n",
              "      <td>politicsNews</td>\n",
              "      <td>December 30, 2017</td>\n",
              "    </tr>\n",
              "    <tr>\n",
              "      <th>4</th>\n",
              "      <td>Trump wants Postal Service to charge 'much mor...</td>\n",
              "      <td>SEATTLE/WASHINGTON (Reuters) - President Donal...</td>\n",
              "      <td>politicsNews</td>\n",
              "      <td>December 29, 2017</td>\n",
              "    </tr>\n",
              "    <tr>\n",
              "      <th>5</th>\n",
              "      <td>White House, Congress prepare for talks on spe...</td>\n",
              "      <td>WEST PALM BEACH, Fla./WASHINGTON (Reuters) - T...</td>\n",
              "      <td>politicsNews</td>\n",
              "      <td>December 29, 2017</td>\n",
              "    </tr>\n",
              "    <tr>\n",
              "      <th>6</th>\n",
              "      <td>Trump says Russia probe will be fair, but time...</td>\n",
              "      <td>WEST PALM BEACH, Fla (Reuters) - President Don...</td>\n",
              "      <td>politicsNews</td>\n",
              "      <td>December 29, 2017</td>\n",
              "    </tr>\n",
              "    <tr>\n",
              "      <th>7</th>\n",
              "      <td>Factbox: Trump on Twitter (Dec 29) - Approval ...</td>\n",
              "      <td>The following statements were posted to the ve...</td>\n",
              "      <td>politicsNews</td>\n",
              "      <td>December 29, 2017</td>\n",
              "    </tr>\n",
              "    <tr>\n",
              "      <th>8</th>\n",
              "      <td>Trump on Twitter (Dec 28) - Global Warming</td>\n",
              "      <td>The following statements were posted to the ve...</td>\n",
              "      <td>politicsNews</td>\n",
              "      <td>December 29, 2017</td>\n",
              "    </tr>\n",
              "    <tr>\n",
              "      <th>9</th>\n",
              "      <td>Alabama official to certify Senator-elect Jone...</td>\n",
              "      <td>WASHINGTON (Reuters) - Alabama Secretary of St...</td>\n",
              "      <td>politicsNews</td>\n",
              "      <td>December 28, 2017</td>\n",
              "    </tr>\n",
              "    <tr>\n",
              "      <th>10</th>\n",
              "      <td>Jones certified U.S. Senate winner despite Moo...</td>\n",
              "      <td>(Reuters) - Alabama officials on Thursday cert...</td>\n",
              "      <td>politicsNews</td>\n",
              "      <td>December 28, 2017</td>\n",
              "    </tr>\n",
              "    <tr>\n",
              "      <th>11</th>\n",
              "      <td>New York governor questions the constitutional...</td>\n",
              "      <td>NEW YORK/WASHINGTON (Reuters) - The new U.S. t...</td>\n",
              "      <td>politicsNews</td>\n",
              "      <td>December 28, 2017</td>\n",
              "    </tr>\n",
              "    <tr>\n",
              "      <th>12</th>\n",
              "      <td>Factbox: Trump on Twitter (Dec 28) - Vanity Fa...</td>\n",
              "      <td>The following statements were posted to the ve...</td>\n",
              "      <td>politicsNews</td>\n",
              "      <td>December 28, 2017</td>\n",
              "    </tr>\n",
              "    <tr>\n",
              "      <th>13</th>\n",
              "      <td>Trump on Twitter (Dec 27) - Trump, Iraq, Syria</td>\n",
              "      <td>The following statements were posted to the ve...</td>\n",
              "      <td>politicsNews</td>\n",
              "      <td>December 28, 2017</td>\n",
              "    </tr>\n",
              "    <tr>\n",
              "      <th>14</th>\n",
              "      <td>Man says he delivered manure to Mnuchin to pro...</td>\n",
              "      <td>(In Dec. 25 story, in second paragraph, corre...</td>\n",
              "      <td>politicsNews</td>\n",
              "      <td>December 25, 2017</td>\n",
              "    </tr>\n",
              "    <tr>\n",
              "      <th>15</th>\n",
              "      <td>Virginia officials postpone lottery drawing to...</td>\n",
              "      <td>(Reuters) - A lottery drawing to settle a tied...</td>\n",
              "      <td>politicsNews</td>\n",
              "      <td>December 27, 2017</td>\n",
              "    </tr>\n",
              "    <tr>\n",
              "      <th>16</th>\n",
              "      <td>U.S. lawmakers question businessman at 2016 Tr...</td>\n",
              "      <td>WASHINGTON (Reuters) - A Georgian-American bus...</td>\n",
              "      <td>politicsNews</td>\n",
              "      <td>December 27, 2017</td>\n",
              "    </tr>\n",
              "    <tr>\n",
              "      <th>17</th>\n",
              "      <td>Trump on Twitter (Dec 26) - Hillary Clinton, T...</td>\n",
              "      <td>The following statements were posted to the ve...</td>\n",
              "      <td>politicsNews</td>\n",
              "      <td>December 26, 2017</td>\n",
              "    </tr>\n",
              "    <tr>\n",
              "      <th>18</th>\n",
              "      <td>U.S. appeals court rejects challenge to Trump ...</td>\n",
              "      <td>(Reuters) - A U.S. appeals court in Washington...</td>\n",
              "      <td>politicsNews</td>\n",
              "      <td>December 26, 2017</td>\n",
              "    </tr>\n",
              "    <tr>\n",
              "      <th>19</th>\n",
              "      <td>Treasury Secretary Mnuchin was sent gift-wrapp...</td>\n",
              "      <td>(Reuters) - A gift-wrapped package addressed t...</td>\n",
              "      <td>politicsNews</td>\n",
              "      <td>December 24, 2017</td>\n",
              "    </tr>\n",
              "  </tbody>\n",
              "</table>\n",
              "</div>"
            ],
            "text/plain": [
              "                                                title  ...                date\n",
              "0   As U.S. budget fight looms, Republicans flip t...  ...  December 31, 2017 \n",
              "1   U.S. military to accept transgender recruits o...  ...  December 29, 2017 \n",
              "2   Senior U.S. Republican senator: 'Let Mr. Muell...  ...  December 31, 2017 \n",
              "3   FBI Russia probe helped by Australian diplomat...  ...  December 30, 2017 \n",
              "4   Trump wants Postal Service to charge 'much mor...  ...  December 29, 2017 \n",
              "5   White House, Congress prepare for talks on spe...  ...  December 29, 2017 \n",
              "6   Trump says Russia probe will be fair, but time...  ...  December 29, 2017 \n",
              "7   Factbox: Trump on Twitter (Dec 29) - Approval ...  ...  December 29, 2017 \n",
              "8          Trump on Twitter (Dec 28) - Global Warming  ...  December 29, 2017 \n",
              "9   Alabama official to certify Senator-elect Jone...  ...  December 28, 2017 \n",
              "10  Jones certified U.S. Senate winner despite Moo...  ...  December 28, 2017 \n",
              "11  New York governor questions the constitutional...  ...  December 28, 2017 \n",
              "12  Factbox: Trump on Twitter (Dec 28) - Vanity Fa...  ...  December 28, 2017 \n",
              "13     Trump on Twitter (Dec 27) - Trump, Iraq, Syria  ...  December 28, 2017 \n",
              "14  Man says he delivered manure to Mnuchin to pro...  ...  December 25, 2017 \n",
              "15  Virginia officials postpone lottery drawing to...  ...  December 27, 2017 \n",
              "16  U.S. lawmakers question businessman at 2016 Tr...  ...  December 27, 2017 \n",
              "17  Trump on Twitter (Dec 26) - Hillary Clinton, T...  ...  December 26, 2017 \n",
              "18  U.S. appeals court rejects challenge to Trump ...  ...  December 26, 2017 \n",
              "19  Treasury Secretary Mnuchin was sent gift-wrapp...  ...  December 24, 2017 \n",
              "\n",
              "[20 rows x 4 columns]"
            ]
          },
          "metadata": {
            "tags": []
          },
          "execution_count": 118
        }
      ]
    },
    {
      "cell_type": "code",
      "metadata": {
        "colab": {
          "base_uri": "https://localhost:8080/"
        },
        "id": "4QvYdvcMCKzc",
        "outputId": "6f5de536-c948-4b1e-cf6d-f4b0217b3742"
      },
      "source": [
        "df_fake_news.count()"
      ],
      "execution_count": 119,
      "outputs": [
        {
          "output_type": "execute_result",
          "data": {
            "text/plain": [
              "title      21417\n",
              "text       21417\n",
              "subject    21417\n",
              "date       21417\n",
              "dtype: int64"
            ]
          },
          "metadata": {
            "tags": []
          },
          "execution_count": 119
        }
      ]
    },
    {
      "cell_type": "code",
      "metadata": {
        "colab": {
          "base_uri": "https://localhost:8080/"
        },
        "id": "M3LhYW_kCKws",
        "outputId": "4d69c5b5-7cbd-435e-feff-7e7db93b55dd"
      },
      "source": [
        "df_true_news.count()"
      ],
      "execution_count": 120,
      "outputs": [
        {
          "output_type": "execute_result",
          "data": {
            "text/plain": [
              "title      21417\n",
              "text       21417\n",
              "subject    21417\n",
              "date       21417\n",
              "dtype: int64"
            ]
          },
          "metadata": {
            "tags": []
          },
          "execution_count": 120
        }
      ]
    },
    {
      "cell_type": "code",
      "metadata": {
        "id": "QpKwoTp7CKvV"
      },
      "source": [
        "#Find Missing Data if any at all\n",
        "def find_missing_values(data):\n",
        "  total=len(data)\n",
        "  for col in data.columns:\n",
        "    if (data[col].isna().sum()!=0):\n",
        "      print(\"{} has: (:,} ({:.2}%) missing values.\".format(col,data[col].isna().sum,(data[col].isna().sum()/total)*100)) \n",
        "    \n",
        "    else:\n",
        "      print(\"{} has no any missing values\".format(col))\n",
        "  print(\"\\nMissing Value Summary\\n{}\".format(\"-\"*35))\n",
        "  print(\"\\ndf_db\\n{}\".format(\"-\"*15))\n",
        "  print(data.isnull().sum(axis=0))"
      ],
      "execution_count": 121,
      "outputs": []
    },
    {
      "cell_type": "code",
      "metadata": {
        "id": "M9fEKfPJFP4j"
      },
      "source": [
        "def remove_duplicates(data):\n",
        "  print(\"\\nCleaning Summary\\n{}\".format(\"-\"*35))\n",
        "  size_before=len(data)\n",
        "  data.drop_duplicates(subset=None , keep=\"first\", inplace=True)\n",
        "  size_after=len(data)\n",
        "  print(\"... removed {} duplicate rows in db data\".format(size_before-size_after))"
      ],
      "execution_count": 122,
      "outputs": []
    },
    {
      "cell_type": "code",
      "metadata": {
        "colab": {
          "base_uri": "https://localhost:8080/"
        },
        "id": "1i5BEGO-GfAZ",
        "outputId": "3eddb746-f45d-4fa6-c9a7-56900c37263b"
      },
      "source": [
        "find_missing_values(df_true_news)"
      ],
      "execution_count": 123,
      "outputs": [
        {
          "output_type": "stream",
          "text": [
            "title has no any missing values\n",
            "text has no any missing values\n",
            "subject has no any missing values\n",
            "date has no any missing values\n",
            "\n",
            "Missing Value Summary\n",
            "-----------------------------------\n",
            "\n",
            "df_db\n",
            "---------------\n",
            "title      0\n",
            "text       0\n",
            "subject    0\n",
            "date       0\n",
            "dtype: int64\n"
          ],
          "name": "stdout"
        }
      ]
    },
    {
      "cell_type": "code",
      "metadata": {
        "colab": {
          "base_uri": "https://localhost:8080/"
        },
        "id": "3aGUg8ZnHNgu",
        "outputId": "44042439-26d1-42b4-8b2c-e6c8a8850560"
      },
      "source": [
        "find_missing_values(df_fake_news)"
      ],
      "execution_count": 124,
      "outputs": [
        {
          "output_type": "stream",
          "text": [
            "title has no any missing values\n",
            "text has no any missing values\n",
            "subject has no any missing values\n",
            "date has no any missing values\n",
            "\n",
            "Missing Value Summary\n",
            "-----------------------------------\n",
            "\n",
            "df_db\n",
            "---------------\n",
            "title      0\n",
            "text       0\n",
            "subject    0\n",
            "date       0\n",
            "dtype: int64\n"
          ],
          "name": "stdout"
        }
      ]
    },
    {
      "cell_type": "code",
      "metadata": {
        "colab": {
          "base_uri": "https://localhost:8080/"
        },
        "id": "WEAr21nUHQwg",
        "outputId": "b4c79f95-c729-4f6c-c54b-aa52219f708e"
      },
      "source": [
        "remove_duplicates(df_true_news)"
      ],
      "execution_count": 125,
      "outputs": [
        {
          "output_type": "stream",
          "text": [
            "\n",
            "Cleaning Summary\n",
            "-----------------------------------\n",
            "... removed 206 duplicate rows in db data\n"
          ],
          "name": "stdout"
        }
      ]
    },
    {
      "cell_type": "code",
      "metadata": {
        "colab": {
          "base_uri": "https://localhost:8080/"
        },
        "id": "9LdpEUtvHYd-",
        "outputId": "1ff6f4b7-5b5f-479e-e074-1168704e13ab"
      },
      "source": [
        "remove_duplicates(df_fake_news)"
      ],
      "execution_count": 126,
      "outputs": [
        {
          "output_type": "stream",
          "text": [
            "\n",
            "Cleaning Summary\n",
            "-----------------------------------\n",
            "... removed 206 duplicate rows in db data\n"
          ],
          "name": "stdout"
        }
      ]
    },
    {
      "cell_type": "code",
      "metadata": {
        "id": "MxFmIAXpHjb5"
      },
      "source": [
        "df_merged=pd.merge(df_fake_news,df_true_news,how='outer')"
      ],
      "execution_count": 127,
      "outputs": []
    },
    {
      "cell_type": "code",
      "metadata": {
        "colab": {
          "base_uri": "https://localhost:8080/",
          "height": 360
        },
        "id": "NTrTq0fyH10M",
        "outputId": "2c171765-bc9b-45d2-a04a-ab516d0bfeae"
      },
      "source": [
        "import seaborn as sns\n",
        "import matplotlib.pyplot as plt\n",
        "sns.set(style=\"ticks\", color_codes=True)\n",
        "\n",
        "fig_dims=(20,4.8)\n",
        "fig, ax=plt.subplots(figsize=fig_dims)\n",
        "sns.countplot(df_merged['subject'], ax=ax, data=df_merged);"
      ],
      "execution_count": 128,
      "outputs": [
        {
          "output_type": "stream",
          "text": [
            "/usr/local/lib/python3.7/dist-packages/seaborn/_decorators.py:43: FutureWarning: Pass the following variable as a keyword arg: x. From version 0.12, the only valid positional argument will be `data`, and passing other arguments without an explicit keyword will result in an error or misinterpretation.\n",
            "  FutureWarning\n"
          ],
          "name": "stderr"
        },
        {
          "output_type": "display_data",
          "data": {
            "image/png": "[encoded data removed]",
            "text/plain": [
              "<Figure size 1440x345.6 with 1 Axes>"
            ]
          },
          "metadata": {
            "tags": []
          }
        }
      ]
    },
    {
      "cell_type": "code",
      "metadata": {
        "id": "TWUeJEP7JGo1"
      },
      "source": [
        "df_fake_news['label']=0\n",
        "df_true_news['label']=1"
      ],
      "execution_count": 129,
      "outputs": []
    },
    {
      "cell_type": "code",
      "metadata": {
        "id": "Z77BEhnAJPoi"
      },
      "source": [
        "df_train=pd.merge(df_fake_news, df_true_news, how='outer')"
      ],
      "execution_count": 130,
      "outputs": []
    },
    {
      "cell_type": "code",
      "metadata": {
        "colab": {
          "base_uri": "https://localhost:8080/"
        },
        "id": "J2qtK16CJPb6",
        "outputId": "b3918fc7-854b-4eec-86e0-c073f6dacfb0"
      },
      "source": [
        "!pip install sklearn"
      ],
      "execution_count": 131,
      "outputs": [
        {
          "output_type": "stream",
          "text": [
            "Requirement already satisfied: sklearn in /usr/local/lib/python3.7/dist-packages (0.0)\n",
            "Requirement already satisfied: scikit-learn in /usr/local/lib/python3.7/dist-packages (from sklearn) (0.22.2.post1)\n",
            "Requirement already satisfied: numpy>=1.11.0 in /usr/local/lib/python3.7/dist-packages (from scikit-learn->sklearn) (1.19.5)\n",
            "Requirement already satisfied: scipy>=0.17.0 in /usr/local/lib/python3.7/dist-packages (from scikit-learn->sklearn) (1.4.1)\n",
            "Requirement already satisfied: joblib>=0.11 in /usr/local/lib/python3.7/dist-packages (from scikit-learn->sklearn) (1.0.1)\n"
          ],
          "name": "stdout"
        }
      ]
    },
    {
      "cell_type": "code",
      "metadata": {
        "id": "9mMOkLk1JPaR"
      },
      "source": [
        "from sklearn.feature_extraction.text import CountVectorizer\n",
        "\n",
        "from sklearn.feature_extraction.text import TfidfTransformer"
      ],
      "execution_count": 132,
      "outputs": []
    },
    {
      "cell_type": "markdown",
      "metadata": {
        "id": "mbY2Mdx_J1Dv"
      },
      "source": [
        "**Remove stopwords and punctuations**"
      ]
    },
    {
      "cell_type": "code",
      "metadata": {
        "id": "IevnCos8J8wI"
      },
      "source": [
        "import string \n",
        "from nltk.corpus import stopwords"
      ],
      "execution_count": 133,
      "outputs": []
    },
    {
      "cell_type": "code",
      "metadata": {
        "colab": {
          "base_uri": "https://localhost:8080/"
        },
        "id": "4HCbpJk7KJ3U",
        "outputId": "baa4a09e-f02b-4754-fac9-3f53628cb5cb"
      },
      "source": [
        "import nltk\n",
        "nltk.download('stopwords')"
      ],
      "execution_count": 134,
      "outputs": [
        {
          "output_type": "stream",
          "text": [
            "[nltk_data] Downloading package stopwords to /root/nltk_data...\n",
            "[nltk_data]   Package stopwords is already up-to-date!\n"
          ],
          "name": "stdout"
        },
        {
          "output_type": "execute_result",
          "data": {
            "text/plain": [
              "True"
            ]
          },
          "metadata": {
            "tags": []
          },
          "execution_count": 134
        }
      ]
    },
    {
      "cell_type": "code",
      "metadata": {
        "id": "G5QjSk0xKU42"
      },
      "source": [
        "def text_process(text):\n",
        "  no_punctuation=[char for char in text if char not in string.punctuation]\n",
        "  no_punctuation=''.join(no_punctuation)\n",
        "  return [word for word in no_punctuation.split() if word.lower() not in stopwords.words('english')]"
      ],
      "execution_count": 135,
      "outputs": []
    },
    {
      "cell_type": "markdown",
      "metadata": {
        "id": "w06HHrStLBWh"
      },
      "source": [
        "**Model Creation and Training**"
      ]
    },
    {
      "cell_type": "code",
      "metadata": {
        "id": "x-eiHeGOK-z7"
      },
      "source": [
        "from sklearn.model_selection import train_test_split"
      ],
      "execution_count": 136,
      "outputs": []
    },
    {
      "cell_type": "code",
      "metadata": {
        "id": "J9IJifqGLhg2"
      },
      "source": [
        "X_train, X_test, y_train, y_test = train_test_split(df_train['title'], df_train['label'], test_size=0.2, random_state=42)"
      ],
      "execution_count": 137,
      "outputs": []
    },
    {
      "cell_type": "code",
      "metadata": {
        "id": "Crdn37K-L6T9"
      },
      "source": [
        "#Deep learning Multi-perceptron neural network binary classifier\n",
        "\n",
        "from sklearn.neural_network import MLPClassifier\n"
      ],
      "execution_count": 138,
      "outputs": []
    },
    {
      "cell_type": "code",
      "metadata": {
        "id": "P4C8V83cMPhA"
      },
      "source": [
        "from sklearn.pipeline import Pipeline\n",
        "\n",
        "news_classifier = Pipeline([\n",
        "                            ('vectorizer', CountVectorizer(analyzer=text_process)), \n",
        "                            ('tfidf', TfidfTransformer()), \n",
        "                            ('classifier', MLPClassifier(solver='adam', activation='tanh', random_state=1,\n",
        "                                                         max_iter=200, early_stopping= True))\n",
        "])"
      ],
      "execution_count": 139,
      "outputs": []
    },
    {
      "cell_type": "code",
      "metadata": {
        "colab": {
          "base_uri": "https://localhost:8080/"
        },
        "id": "yDuMr3snNNeC",
        "outputId": "1f4dab3b-dc13-4ca0-f498-4478d2a635fc"
      },
      "source": [
        "news_classifier.fit(X_train, y_train)"
      ],
      "execution_count": 140,
      "outputs": [
        {
          "output_type": "execute_result",
          "data": {
            "text/plain": [
              "Pipeline(memory=None,\n",
              "         steps=[('vectorizer',\n",
              "                 CountVectorizer(analyzer=<function text_process at 0x7f0c2aaa0050>,\n",
              "                                 binary=False, decode_error='strict',\n",
              "                                 dtype=<class 'numpy.int64'>, encoding='utf-8',\n",
              "                                 input='content', lowercase=True, max_df=1.0,\n",
              "                                 max_features=None, min_df=1,\n",
              "                                 ngram_range=(1, 1), preprocessor=None,\n",
              "                                 stop_words=None, strip_accents=None,\n",
              "                                 token_pattern='(?u)\\\\b\\\\w...\n",
              "                               batch_size='auto', beta_1=0.9, beta_2=0.999,\n",
              "                               early_stopping=True, epsilon=1e-08,\n",
              "                               hidden_layer_sizes=(100,),\n",
              "                               learning_rate='constant',\n",
              "                               learning_rate_init=0.001, max_fun=15000,\n",
              "                               max_iter=200, momentum=0.9, n_iter_no_change=10,\n",
              "                               nesterovs_momentum=True, power_t=0.5,\n",
              "                               random_state=1, shuffle=True, solver='adam',\n",
              "                               tol=0.0001, validation_fraction=0.1,\n",
              "                               verbose=False, warm_start=False))],\n",
              "         verbose=False)"
            ]
          },
          "metadata": {
            "tags": []
          },
          "execution_count": 140
        }
      ]
    },
    {
      "cell_type": "markdown",
      "metadata": {
        "id": "UiF47QCPN_vf"
      },
      "source": [
        "**Model Evaluation**"
      ]
    },
    {
      "cell_type": "code",
      "metadata": {
        "id": "EffBc6k9N88h"
      },
      "source": [
        "predicted= news_classifier.predict(X_test)"
      ],
      "execution_count": 141,
      "outputs": []
    },
    {
      "cell_type": "code",
      "metadata": {
        "id": "eQefVwo9OSzJ"
      },
      "source": [
        "from sklearn.metrics import classification_report"
      ],
      "execution_count": 142,
      "outputs": []
    },
    {
      "cell_type": "code",
      "metadata": {
        "colab": {
          "base_uri": "https://localhost:8080/"
        },
        "id": "mM_X96BGOSqi",
        "outputId": "beed9095-c1d3-4191-b9a0-3ca04dbd9165"
      },
      "source": [
        "print(classification_report(predicted, y_test))"
      ],
      "execution_count": 143,
      "outputs": [
        {
          "output_type": "stream",
          "text": [
            "              precision    recall  f1-score   support\n",
            "\n",
            "           0       0.06      0.31      0.09       761\n",
            "           1       0.88      0.48      0.62      7724\n",
            "\n",
            "    accuracy                           0.46      8485\n",
            "   macro avg       0.47      0.39      0.36      8485\n",
            "weighted avg       0.80      0.46      0.57      8485\n",
            "\n"
          ],
          "name": "stdout"
        }
      ]
    },
    {
      "cell_type": "markdown",
      "metadata": {
        "id": "U37jRTxBOrHE"
      },
      "source": [
        "**Saving and downloading your model**"
      ]
    },
    {
      "cell_type": "code",
      "metadata": {
        "id": "CtpYzHsHOmxh"
      },
      "source": [
        "from sklearn.externals import joblib"
      ],
      "execution_count": 144,
      "outputs": []
    },
    {
      "cell_type": "code",
      "metadata": {
        "colab": {
          "base_uri": "https://localhost:8080/"
        },
        "id": "wCd7LcBoO-1d",
        "outputId": "fe2168df-5144-4cab-85d8-1c1d14e8a509"
      },
      "source": [
        "joblib.dump(news_classifier, 'model.pkl')"
      ],
      "execution_count": 145,
      "outputs": [
        {
          "output_type": "execute_result",
          "data": {
            "text/plain": [
              "['model.pkl']"
            ]
          },
          "metadata": {
            "tags": []
          },
          "execution_count": 145
        }
      ]
    },
    {
      "cell_type": "code",
      "metadata": {
        "id": "tQp0cATnQYEp"
      },
      "source": [
        "from googleapiclient.discovery import build\n",
        "drive_service= build('drive', 'v3')"
      ],
      "execution_count": 146,
      "outputs": []
    },
    {
      "cell_type": "code",
      "metadata": {
        "colab": {
          "base_uri": "https://localhost:8080/"
        },
        "id": "94izCsrRO-nm",
        "outputId": "0b3cabeb-44e9-4433-c4c6-c77c07e720be"
      },
      "source": [
        "from googleapiclient.http import MediaFileUpload\n",
        "\n",
        "file_metadata= {\n",
        "    'name' : 'model.pkl',\n",
        "    'mimeType' : 'text/plain'\n",
        "}\n",
        "media= MediaFileUpload('model.pkl',\n",
        "                       mimetype= 'text/plain',\n",
        "                       resumable= True)\n",
        "created= drive_service.files().create(body=file_metadata, media_body=media, fields='id').execute()\n",
        "print('File ID: {}'.format(created.get('id')))"
      ],
      "execution_count": 147,
      "outputs": [
        {
          "output_type": "stream",
          "text": [
            "File ID: 1GKUMo2n8P4kuq334AhivZXZSn5B6HHCe\n"
          ],
          "name": "stdout"
        }
      ]
    },
    {
      "cell_type": "markdown",
      "metadata": {
        "id": "UiyaziBoRhkU"
      },
      "source": [
        "**Model Deployment**"
      ]
    },
    {
      "cell_type": "code",
      "metadata": {
        "colab": {
          "base_uri": "https://localhost:8080/"
        },
        "id": "ew18eZCbTaWx",
        "outputId": "98526388-5086-40fe-9740-0ce8fb057e40"
      },
      "source": [
        "news_title= ['Man has now landed on Mars']\n",
        "prediction= news_classifier.predict(news_title)\n",
        "print(prediction)"
      ],
      "execution_count": 148,
      "outputs": [
        {
          "output_type": "stream",
          "text": [
            "[0]\n"
          ],
          "name": "stdout"
        }
      ]
    },
    {
      "cell_type": "code",
      "metadata": {
        "colab": {
          "base_uri": "https://localhost:8080/"
        },
        "id": "Ip2Pj3Q8UCrQ",
        "outputId": "b1d031bf-7fd6-4f3e-ae7c-8e26ce208ef5"
      },
      "source": [
        "news_title1=['Trump wants Postal Service to charge']\n",
        "prediction1= news_classifier.predict(news_title1)\n",
        "print(prediction1) "
      ],
      "execution_count": 149,
      "outputs": [
        {
          "output_type": "stream",
          "text": [
            "[1]\n"
          ],
          "name": "stdout"
        }
      ]
    },
    {
      "cell_type": "code",
      "metadata": {
        "id": "wkgO4X8sVVKs"
      },
      "source": [
        ""
      ],
      "execution_count": 149,
      "outputs": []
    }
  ]
}